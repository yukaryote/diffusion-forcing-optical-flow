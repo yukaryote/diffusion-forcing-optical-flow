{
 "cells": [
  {
   "cell_type": "code",
   "execution_count": 1,
   "metadata": {},
   "outputs": [
    {
     "name": "stderr",
     "output_type": "stream",
     "text": [
      "/home/iyu/miniconda3/envs/diff-force/lib/python3.10/site-packages/tqdm/auto.py:21: TqdmWarning: IProgress not found. Please update jupyter and ipywidgets. See https://ipywidgets.readthedocs.io/en/stable/user_install.html\n",
      "  from .autonotebook import tqdm as notebook_tqdm\n"
     ]
    }
   ],
   "source": [
    "import sys\n",
    "sys.path.append('..')\n",
    "from typing import Sequence\n",
    "import tarfile\n",
    "import io\n",
    "import torch\n",
    "import numpy as np\n",
    "from omegaconf import DictConfig\n",
    "from tqdm import tqdm\n",
    "from datasets.video import OpticalFlowVideoDataset\n",
    "import torch\n",
    "from torchvision.utils import flow_to_image\n",
    "from unittest.mock import MagicMock\n",
    "import tqdm \n",
    "from algorithms.diffusion_forcing import DiffusionForcingFlow\n",
    "\n",
    "import mediapy as media\n",
    "from einops import rearrange"
   ]
  },
  {
   "cell_type": "code",
   "execution_count": 9,
   "metadata": {},
   "outputs": [
    {
     "name": "stdout",
     "output_type": "stream",
     "text": [
      "49\n",
      "type <class 'torch.Tensor'>\n",
      "dataset item shapes torch.Size([1, 2, 256, 256]) torch.Size([1, 3, 256, 256]) (1,)\n",
      "(256, 256, 3)\n",
      "<class 'torch.Tensor'> <class 'torch.Tensor'>\n"
     ]
    },
    {
     "data": {
      "text/html": [
       "<table class=\"show_images\" style=\"border-spacing:0px;\"><tr><td style=\"padding:1px;\"><img width=\"256\" height=\"256\" style=\"image-rendering:auto; object-fit:cover;\" src=\"data:image/png;base64,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\"/></td></tr></table>"
      ],
      "text/plain": [
       "<IPython.core.display.HTML object>"
      ]
     },
     "metadata": {},
     "output_type": "display_data"
    }
   ],
   "source": [
    "cfg = MagicMock()\n",
    "cfg.resolution = 256\n",
    "cfg.external_cond_dim = 0\n",
    "cfg.n_frames = 1\n",
    "cfg.frame_skip = 1\n",
    "cfg.save_dir = \"/home/iyu/diffusion-forcing/data/rod_flow\"\n",
    "cfg.validation_multiplier = 1\n",
    "cfg.frame_stack = 1\n",
    "\n",
    "dataset = OpticalFlowVideoDataset(cfg, \"training\")\n",
    "print(len(dataset))\n",
    "\n",
    "flow, vid, term = dataset[3]\n",
    "print(\"dataset item shapes\", flow.shape, vid.shape, term.shape)\n",
    "dataloader = torch.utils.data.DataLoader(dataset, batch_size=1, shuffle=True, num_workers=16)\n",
    "\n",
    "data_mean = torch.tensor(0.5)\n",
    "data_std = torch.tensor(0.5)\n",
    "\n",
    "def _normalize_x(xs: torch.Tensor) -> torch.Tensor:\n",
    "    shape = [1] * (xs.ndim - data_mean.ndim) + list(data_mean.shape)\n",
    "    mean = data_mean.reshape(shape)\n",
    "    std = data_std.reshape(shape)\n",
    "    return (xs - mean) / std\n",
    "\n",
    "def _unnormalize_x(xs: torch.Tensor) -> torch.Tensor:\n",
    "    shape = [1] * (xs.ndim - data_mean.ndim) + list(data_mean.shape)\n",
    "    mean = data_mean.reshape(shape)\n",
    "    std = data_std.reshape(shape)\n",
    "    return xs * std + mean\n",
    "\n",
    "def _unstack_and_unnormalize(xs: torch.Tensor) -> torch.Tensor:\n",
    "    xs = rearrange(xs, \"t b (fs c) ... -> (t fs) b c ...\", fs=1)\n",
    "    return _unnormalize_x(xs)\n",
    "\n",
    "vid_np = rearrange(vid[0] * 255, \"c h w -> h w c\").byte().numpy()\n",
    "print(vid_np.shape)\n",
    "print(type(vid), type(flow))\n",
    "\n",
    "xs = _normalize_x(flow)\n",
    "xs = rearrange(xs, \"(t fs) c ... -> t (fs c) ...\", fs=1).contiguous()\n",
    "xs = _unstack_and_unnormalize(xs)\n",
    "\n",
    "H, W = 256, 256\n",
    "gt_img = flow_to_image(xs)\n",
    "gt_img = torch.nn.functional.interpolate(gt_img, (H, W))\n",
    "\n",
    "gt_img = rearrange(gt_img, \"t c h w -> t h w c\")\n",
    "gt_img = gt_img[0].byte().numpy()\n",
    "media.show_image(gt_img)"
   ]
  },
  {
   "cell_type": "code",
   "execution_count": null,
   "metadata": {},
   "outputs": [],
   "source": []
  }
 ],
 "metadata": {
  "kernelspec": {
   "display_name": "diff-force",
   "language": "python",
   "name": "python3"
  },
  "language_info": {
   "codemirror_mode": {
    "name": "ipython",
    "version": 3
   },
   "file_extension": ".py",
   "mimetype": "text/x-python",
   "name": "python",
   "nbconvert_exporter": "python",
   "pygments_lexer": "ipython3",
   "version": "3.10.15"
  }
 },
 "nbformat": 4,
 "nbformat_minor": 2
}
